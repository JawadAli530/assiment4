{
 "cells": [
  {
   "cell_type": "markdown",
   "id": "3ccbbeec-e692-4271-8fe7-8460c426f0db",
   "metadata": {},
   "source": [
    "Q#1\n"
   ]
  },
  {
   "cell_type": "code",
   "execution_count": 14,
   "id": "ccd81e7c-58ef-407a-8af0-635e3641cd77",
   "metadata": {},
   "outputs": [
    {
     "name": "stdin",
     "output_type": "stream",
     "text": [
      "Enter the Age:  18\n",
      "Enter the credit_score : 700\n",
      "Enter the anual_income : 30000\n"
     ]
    },
    {
     "name": "stdout",
     "output_type": "stream",
     "text": [
      "you are eligible for loan\n"
     ]
    }
   ],
   "source": [
    "Age = int(input(\"Enter the Age: \"))\n",
    "credit_score = int(input(\"Enter the credit_score :\"))\n",
    "anual_income =  int(input(\"Enter the anual_income :\"))\n",
    "if (Age >= 18 and credit_score >= 650 and anual_income >=30000):\n",
    "    print(\"you are eligible for loan\")\n",
    "else:\n",
    "    print(\"you are not eligible for loan\")"
   ]
  },
  {
   "cell_type": "markdown",
   "id": "a138cc0a-1b31-4bbf-9cf5-b4dabf057c66",
   "metadata": {},
   "source": [
    "Q#2"
   ]
  },
  {
   "cell_type": "code",
   "execution_count": 22,
   "id": "041d1819-7d3e-4992-80f5-bf799690dee5",
   "metadata": {},
   "outputs": [
    {
     "name": "stdin",
     "output_type": "stream",
     "text": [
      "Enter the Age: 18\n",
      "Enter the experience 6\n"
     ]
    },
    {
     "name": "stdout",
     "output_type": "stream",
     "text": [
      "You have moderate experience\n"
     ]
    }
   ],
   "source": [
    "Age = int(input(\"Enter the Age:\"))\n",
    "if (Age < 18):\n",
    "    print(\"you are underage\")\n",
    "else:\n",
    "    experience =int(input(\"Enter the experience\"))\n",
    "if(experience >=10):\n",
    "    print(\"You have a lot of experience\")\n",
    "elif(experience >=5):\n",
    "    print(\"You have moderate experience\")\n",
    "elif(experience >=2):\n",
    "    print(\"You are relatively \")\n",
    "else:\n",
    "    print(\"You are just starting \")"
   ]
  },
  {
   "cell_type": "markdown",
   "id": "3da36b65-4f3b-4a4e-b38d-aaaeb5584671",
   "metadata": {},
   "source": [
    "Q#4"
   ]
  },
  {
   "cell_type": "code",
   "execution_count": 1,
   "id": "e10f446c-9394-451c-8c5f-330d3ea96627",
   "metadata": {},
   "outputs": [
    {
     "name": "stdin",
     "output_type": "stream",
     "text": [
      "Please enter your email:  jawadali33786@gmail.com\n"
     ]
    },
    {
     "name": "stdout",
     "output_type": "stream",
     "text": [
      "email is valid\n"
     ]
    }
   ],
   "source": [
    "email = input(\"Please enter your email: \")\n",
    "if\"@\" in email and \".\" in email :\n",
    "    print(\"email is valid\")\n",
    "else:\n",
    "    print(\"email in not valid\")"
   ]
  },
  {
   "cell_type": "markdown",
   "id": "37813ff8-df85-4304-90ac-4e70b4612f5c",
   "metadata": {},
   "source": [
    "Q#5"
   ]
  },
  {
   "cell_type": "code",
   "execution_count": 3,
   "id": "06226109-26b5-446a-8a85-95cc22d0771d",
   "metadata": {},
   "outputs": [
    {
     "name": "stdout",
     "output_type": "stream",
     "text": [
      "Data types of tuple elements: [<class 'int'>, <class 'float'>, <class 'str'>, <class 'list'>, <class 'tuple'>]\n"
     ]
    }
   ],
   "source": [
    "x = (11,22.333,'apple',[1,2,3],('a','b'))\n",
    "data_types = []\n",
    "for element in x:\n",
    "    data_types.append(type(element))\n",
    "print(\"Data types of tuple elements:\",data_types)"
   ]
  },
  {
   "cell_type": "markdown",
   "id": "139586e1-3f45-40d7-b9f2-d6a440f97357",
   "metadata": {},
   "source": [
    "Q#6"
   ]
  },
  {
   "cell_type": "code",
   "execution_count": 2,
   "id": "0f93064f-1add-4e8d-8a3c-342efab7f870",
   "metadata": {},
   "outputs": [
    {
     "name": "stdout",
     "output_type": "stream",
     "text": [
      "User 'alice' exists.\n",
      "User 'alice' is not the admin.\n"
     ]
    },
    {
     "name": "stderr",
     "output_type": "stream",
     "text": [
      "<>:13: SyntaxWarning: \"is\" with 'tuple' literal. Did you mean \"==\"?\n",
      "<>:13: SyntaxWarning: \"is\" with 'tuple' literal. Did you mean \"==\"?\n",
      "C:\\Users\\JawadAli\\AppData\\Local\\Temp\\ipykernel_8244\\788625510.py:13: SyntaxWarning: \"is\" with 'tuple' literal. Did you mean \"==\"?\n",
      "  if admin_check is not None and admin_check[1] == \"admin\" and admin_check is (\"alice\", \"admin\"):\n"
     ]
    }
   ],
   "source": [
    "active_users = [(\"alice\", \"admin\"),\n",
    "                (\"bob\", \"user\"),\n",
    "                (\"charlie\", \"moderator\")]\n",
    "username_to_check = \"alice\"\n",
    "user_exists = any(username == username_to_check for username, role in active_users)\n",
    "admin_check = None\n",
    "for user, role in active_users:\n",
    "    if user == username_to_check:\n",
    "        admin_check = (user, role)\n",
    "        break\n",
    "if user_exists:\n",
    "    print(f\"User '{username_to_check}' exists.\")\n",
    "    if admin_check is not None and admin_check[1] == \"admin\" and admin_check is (\"alice\", \"admin\"):\n",
    "        print(f\"User '{username_to_check}' is the admin.\")\n",
    "    else:\n",
    "        print(f\"User '{username_to_check}' is not the admin.\")\n",
    "else:\n",
    "    print(f\"User '{username_to_check}' does not exist.\")\n"
   ]
  },
  {
   "cell_type": "markdown",
   "id": "5fd97a82-2cc2-48a5-9aa5-0554b55b675d",
   "metadata": {},
   "source": [
    "Q#7"
   ]
  },
  {
   "cell_type": "code",
   "execution_count": 3,
   "id": "47a3e291-8a59-4eb6-851d-10ac9bb38c10",
   "metadata": {},
   "outputs": [
    {
     "name": "stdout",
     "output_type": "stream",
     "text": [
      "Cousin\n"
     ]
    }
   ],
   "source": [
    "def find_relation(person1_data, person2_data, person3_data)\n",
    "    if person1_data[:3] == person2_data[:3] and person1_data[3] == person2_data[3]:\n",
    "        print(\"Siblings\")\n",
    "    elif person1_data[2] == person3_data[2] and person1_data[3] != person3_data[3]:\n",
    "        print(\"Cousin\")\n",
    "    else:\n",
    "        print(\"No relation\")\n",
    "person1 = ['John', 'Mary', 'District A', '12345']\n",
    "person2 = ['James', 'Mary', 'District A', '12345']\n",
    "person3 = ['Sophia', 'Emma', 'District A', '67890']\n",
    "find_relation(person1, person2, person3)"
   ]
  },
  {
   "cell_type": "markdown",
   "id": "b227c28f-f960-4d1f-9447-b9990c54a57a",
   "metadata": {},
   "source": [
    "Q#8"
   ]
  },
  {
   "cell_type": "code",
   "execution_count": 5,
   "id": "51c14223-fa68-4f3c-acc3-eff8e31b176a",
   "metadata": {},
   "outputs": [
    {
     "name": "stdin",
     "output_type": "stream",
     "text": [
      "Enter the book's title:  jawad\n",
      "Enter the author's name:  ali\n",
      "Enter the year of publication:  2019\n",
      "Enter the book's price:  500\n"
     ]
    },
    {
     "name": "stdout",
     "output_type": "stream",
     "text": [
      "\n",
      "Book Information:\n",
      "Title: jawad\n",
      "Author: ali\n",
      "Year of Publication: 2019\n",
      "Price: $500.00\n"
     ]
    }
   ],
   "source": [
    "def get_book_details():\n",
    "    title = input(\"Enter the book's title: \")\n",
    "    author = input(\"Enter the author's name: \")\n",
    "    year = input(\"Enter the year of publication: \")\n",
    "    price = float(input(\"Enter the book's price: \"))\n",
    "    book_details = (title, author, year, price)\n",
    "    return book_details\n",
    "def display_book_details(book_details):\n",
    "    print(\"\\nBook Information:\")\n",
    "    print(f\"Title: {book_details[0]}\")\n",
    "    print(f\"Author: {book_details[1]}\")\n",
    "    print(f\"Year of Publication: {book_details[2]}\")\n",
    "    print(f\"Price: ${book_details[3]:.2f}\")\n",
    "book = get_book_details()\n",
    "display_book_details(book)"
   ]
  },
  {
   "cell_type": "markdown",
   "id": "d69122d7-854d-4121-9bc5-3caf51ead97d",
   "metadata": {},
   "source": [
    "Q#9"
   ]
  },
  {
   "cell_type": "code",
   "execution_count": 4,
   "id": "8ca13ec6-a5d3-4b94-941c-769b726e6c4b",
   "metadata": {},
   "outputs": [
    {
     "name": "stdin",
     "output_type": "stream",
     "text": [
      "Please enter the subject you are looking for:  Physics\n"
     ]
    },
    {
     "name": "stdout",
     "output_type": "stream",
     "text": [
      "The subject '{user_subject}' is available.\n"
     ]
    }
   ],
   "source": [
    "offered_subjects = ['Mathematics', 'Physics', 'Chemistry', 'Biology', 'Computer Science', 'English']\n",
    "user_subject = input(\"Please enter the subject you are looking for: \")\n",
    "if user_subject in offered_subjects:\n",
    "    print(\"The subject '{user_subject}' is available.\")\n",
    "else:\n",
    "    print(\"The subject '{user_subject}' is not available.\")"
   ]
  },
  {
   "cell_type": "markdown",
   "id": "cf818375-b467-4265-a91c-8c519e2abd6b",
   "metadata": {},
   "source": [
    "Q#10"
   ]
  },
  {
   "cell_type": "code",
   "execution_count": 9,
   "id": "04ff0dcd-5b70-4721-b6f1-1e1cc3d96f5d",
   "metadata": {},
   "outputs": [
    {
     "name": "stdin",
     "output_type": "stream",
     "text": [
      "Please enter a number to find its index in the tuple:  1\n"
     ]
    },
    {
     "name": "stdout",
     "output_type": "stream",
     "text": [
      "The first occurrence of 1 is at index 0.\n"
     ]
    },
    {
     "name": "stdin",
     "output_type": "stream",
     "text": [
      "Please enter another number to count its occurrences in the tuple:  2\n"
     ]
    },
    {
     "name": "stdout",
     "output_type": "stream",
     "text": [
      "The number 2 appears 3 times in the tuple.\n"
     ]
    }
   ],
   "source": [
    "numbers_tuple = (1, 2, 3, 4, 5, 2, 6, 7, 2, 8, 9, 10)\n",
    "user_number = int(input(\"Please enter a number to find its index in the tuple: \"))\n",
    "if user_number in numbers_tuple:\n",
    "    first_occurrence_index = numbers_tuple.index(user_number)\n",
    "    print(f\"The first occurrence of {user_number} is at index {first_occurrence_index}.\")\n",
    "else:\n",
    "    print(f\"The number {user_number} is not in the tuple.\")\n",
    "another_number = int(input(\"Please enter another number to count its occurrences in the tuple: \"))\n",
    "count = numbers_tuple.count(another_number)\n",
    "if count > 0:\n",
    "    print(f\"The number {another_number} appears {count} times in the tuple.\")\n",
    "else:\n",
    "    print(f\"The number {another_number} does not appear in the tuple.\")\n"
   ]
  },
  {
   "cell_type": "code",
   "execution_count": null,
   "id": "ea5153bf-3de5-426e-b0b5-06d2cacd5578",
   "metadata": {},
   "outputs": [],
   "source": []
  }
 ],
 "metadata": {
  "kernelspec": {
   "display_name": "Python 3 (ipykernel)",
   "language": "python",
   "name": "python3"
  },
  "language_info": {
   "codemirror_mode": {
    "name": "ipython",
    "version": 3
   },
   "file_extension": ".py",
   "mimetype": "text/x-python",
   "name": "python",
   "nbconvert_exporter": "python",
   "pygments_lexer": "ipython3",
   "version": "3.12.7"
  }
 },
 "nbformat": 4,
 "nbformat_minor": 5
}
