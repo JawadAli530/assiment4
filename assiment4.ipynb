{
 "cells": [
  {
   "cell_type": "markdown",
   "id": "77cc6e39-b58f-4505-b7c0-1c5290b350f5",
   "metadata": {},
   "source": [
    "Q1. my_tuple = ( (1, 2, 3), [4, 5, 6], ('apple', 'banana', 'cherry'), [7, 8, 9] )\n",
    "•\tPrint all elements from my_tuple on a new line (using for loop)\n",
    "•\tCreate a new tuple by concatenating the first and last elements of my_tuple"
   ]
  },
  {
   "cell_type": "code",
   "execution_count": 2,
   "id": "30d97617-5fe0-4cd5-8452-0fececbdf99c",
   "metadata": {},
   "outputs": [
    {
     "name": "stdout",
     "output_type": "stream",
     "text": [
      "(1, 2, 3)\n",
      "[4, 5, 6]\n",
      "('apple', 'banana', 'cherry')\n",
      "[7, 8, 9]\n"
     ]
    }
   ],
   "source": [
    "my_tuple = ( (1, 2, 3), [4, 5, 6], ('apple', 'banana', 'cherry'), [7, 8, 9] )\n",
    "for i in my_tuple:\n",
    "    print(i)"
   ]
  },
  {
   "cell_type": "markdown",
   "id": "55e57189-7cb2-4242-b5c1-b235200b0b21",
   "metadata": {},
   "source": [
    "Q4. You are given a list that contains some duplicate items. Remove the duplicates by converting the\n",
    "list to a set.\n",
    "shopping_list = [&quot;apple&quot;, &quot;banana&quot;, &quot;apple&quot;, &quot;orange&quot;, &quot;banana&quot;, &quot;grape&quot;]"
   ]
  },
  {
   "cell_type": "code",
   "execution_count": 2,
   "id": "bf0d0aa2-1073-4a45-be28-c7fd8efcfa35",
   "metadata": {},
   "outputs": [
    {
     "name": "stdout",
     "output_type": "stream",
     "text": [
      "['grape', 'orange', 'banana', 'apple']\n"
     ]
    }
   ],
   "source": [
    "shopping_list = [\"apple\", \"banana\", \"apple\", \"orange\", \"banana\", \"grape\"]\n",
    "unique_items = set(shopping_list)\n",
    "unique_shopping_list = list(unique_items)\n",
    "print(unique_shopping_list)"
   ]
  },
  {
   "cell_type": "markdown",
   "id": "27bc13e5-7ed0-4878-adbd-489620e043df",
   "metadata": {},
   "source": [
    "Q5. You are managing a list of students enrolled in two different courses. You need to perform\n",
    "various set operations to understand the student enrollment. Task: Create two sets: one for students\n",
    "in &quot;Course A&quot; and one for students in &quot;Course B&quot;. Find the students who are in &quot;Course A&quot; but not in\n",
    "&quot;Course B&quot; (difference). Find students who are only in one of the two courses (symmetric\n",
    "difference). course_a = {&quot;John&quot;, &quot;Alice&quot;, &quot;Bob&quot;, &quot;David&quot;} course_b = {&quot;Alice&quot;, &quot;Eve&quot;, &quot;Charlie&quot;,\n",
    "&quot;David&quot;}\n",
    "• Find students who are in Course A but not in Course B (difference)\n",
    "• Find students who are only in one of the two courses (symmetric difference)"
   ]
  },
  {
   "cell_type": "code",
   "execution_count": 4,
   "id": "52bc341f-8362-4027-b74d-3a7e6ad84c82",
   "metadata": {},
   "outputs": [
    {
     "name": "stdout",
     "output_type": "stream",
     "text": [
      "Students in Course A but not in Course B: {'John', 'Bob'}\n",
      "Students only in one of the two courses: {'Eve', 'Charlie', 'Bob', 'John'}\n"
     ]
    }
   ],
   "source": [
    "course_a = {\"John\", \"Alice\", \"Bob\", \"David\"}\n",
    "course_b = {\"Alice\", \"Eve\", \"Charlie\", \"David\"}\n",
    "students_in_a_not_b = course_a - course_b\n",
    "print(\"Students in Course A but not in Course B:\", students_in_a_not_b)\n",
    "students_in_one_course_only = course_a ^ course_b\n",
    "print(\"Students only in one of the two courses:\", students_in_one_course_only)"
   ]
  },
  {
   "cell_type": "markdown",
   "id": "2ec0ec0f-0ab2-492a-8f5f-ce48adb1b036",
   "metadata": {},
   "source": [
    "Q6Write a Python program that calculates the sum of all even numbers between 1 and 50\n",
    "(inclusive) using a for loop.\n",
    "Hint\n",
    "1. Initialize a variable to hold the sum (e.g., sum_of_evens).\n",
    "2. Use a for loop to iterate through all numbers from 1 to 50.\n",
    "3. Inside the loop, check if the number is even.\n",
    "4. If the number is even, add it to sum_of_evens.\n",
    "5. After the loop finishes, print the total sum of all even numbers between 1 and 50."
   ]
  },
  {
   "cell_type": "code",
   "execution_count": 5,
   "id": "16d6e707-d509-4859-98b5-36116f79df54",
   "metadata": {},
   "outputs": [
    {
     "name": "stdout",
     "output_type": "stream",
     "text": [
      "The sum of all even numbers between 1 and 50 is: 650\n"
     ]
    }
   ],
   "source": [
    "sum_of_evens = 0\n",
    "for number in range(1, 51):\n",
    "    if number % 2 == 0:\n",
    "        sum_of_evens += number\n",
    "print(\"The sum of all even numbers between 1 and 50 is:\", sum_of_evens)"
   ]
  },
  {
   "cell_type": "markdown",
   "id": "ec581814-9e88-4bb7-a0e5-f6045a812433",
   "metadata": {},
   "source": [
    "q7Write a Python program that prints the multiplication table for a given number (between 1 and\n",
    "10) using a for loop.\n",
    "\n",
    "Hint:\n",
    "1. Ask the user for a number between 1 and 10 .\n",
    "2. Use a for loop to iterate through the numbers from 1 to 10.\n",
    "3. For each iteration, calculate the product of the given number and the current number in the\n",
    "loop.\n",
    "4. Print the result in a readable format (e.g., 5 x 1 = 5).\n",
    "5. Ensure the program works correctly for any number between 1 and 10."
   ]
  },
  {
   "cell_type": "code",
   "execution_count": 8,
   "id": "dadad028-6f40-4dbe-a5be-9243a065f8d0",
   "metadata": {},
   "outputs": [
    {
     "name": "stdin",
     "output_type": "stream",
     "text": [
      "Enter a number between 1 and 10:  6\n"
     ]
    },
    {
     "name": "stdout",
     "output_type": "stream",
     "text": [
      "6 x 1 = 6\n",
      "6 x 2 = 12\n",
      "6 x 3 = 18\n",
      "6 x 4 = 24\n",
      "6 x 5 = 30\n",
      "6 x 6 = 36\n",
      "6 x 7 = 42\n",
      "6 x 8 = 48\n",
      "6 x 9 = 54\n",
      "6 x 10 = 60\n"
     ]
    }
   ],
   "source": [
    "number = int(input(\"Enter a number between 1 and 10: \"))\n",
    "if 1 <= number <= 10:\n",
    "    for i in range(1, 11):\n",
    "        product = number * i\n",
    "        print(f\"{number} x {i} = {product}\")\n",
    "else:\n",
    "    print(\"Please enter a valid number between 1 and 10.\")"
   ]
  },
  {
   "cell_type": "markdown",
   "id": "447eaf0c-3a69-410e-af5e-bb6f1a55ba88",
   "metadata": {},
   "source": [
    "Q8Write a Python program that takes a number and prints the powers of the number (starting from 1\n",
    "to 10) using a while loop. For example, if the user inputs 3, the output should be:\n",
    "3^1 = 3\n",
    "3^2 = 9\n",
    "3^3 = 27\n",
    "... up to 3^10."
   ]
  },
  {
   "cell_type": "code",
   "execution_count": 10,
   "id": "fca51e94-5f9e-48ac-ac0a-80c75d2e3cab",
   "metadata": {},
   "outputs": [
    {
     "name": "stdin",
     "output_type": "stream",
     "text": [
      "Enter a number:  4\n"
     ]
    },
    {
     "name": "stdout",
     "output_type": "stream",
     "text": [
      "4^1 = 4\n",
      "4^2 = 16\n",
      "4^3 = 64\n",
      "4^4 = 256\n",
      "4^5 = 1024\n",
      "4^6 = 4096\n",
      "4^7 = 16384\n",
      "4^8 = 65536\n",
      "4^9 = 262144\n",
      "4^10 = 1048576\n"
     ]
    }
   ],
   "source": [
    "number = int(input(\"Enter a number: \"))\n",
    "i = 1\n",
    "while i <= 10:\n",
    "    power = number ** i\n",
    "    print(f\"{number}^{i} = {power}\")\n",
    "    i += 1"
   ]
  },
  {
   "cell_type": "markdown",
   "id": "329ceff1-1679-41f4-a719-c2bf8831c444",
   "metadata": {},
   "source": [
    "Q9. Problem Statement: Write a Python program that takes an integer input from the user and\n",
    "counts down from that number to 0. The program should display the current number at each step\n",
    "until it reaches 0, at which point it should print a message indicating the countdown is finished\n",
    "Output Hint:\n",
    "Enter a number to start the countdown: 3\n",
    "3\n",
    "2\n",
    "1\n",
    "0\n",
    "Countdown finished!"
   ]
  },
  {
   "cell_type": "code",
   "execution_count": 12,
   "id": "f29d0c27-27e1-4de8-bb51-c0a4630c2c5a",
   "metadata": {},
   "outputs": [
    {
     "name": "stdin",
     "output_type": "stream",
     "text": [
      "Enter a number to start the countdown:  6\n"
     ]
    },
    {
     "name": "stdout",
     "output_type": "stream",
     "text": [
      "6\n",
      "5\n",
      "4\n",
      "3\n",
      "2\n",
      "1\n",
      "0\n",
      "Countdown finished!\n"
     ]
    }
   ],
   "source": [
    "number = int(input(\"Enter a number to start the countdown: \"))\n",
    "while number >= 0:\n",
    "    print(number)\n",
    "    number -= 1\n",
    "print(\"Countdown finished!\")"
   ]
  },
  {
   "cell_type": "markdown",
   "id": "502a8bd9-1189-4ba0-80bc-c90b9be6b37b",
   "metadata": {},
   "source": [
    "q10Q10. Write a Python program that takes an integer input n from the user and generates a right-\n",
    "angled triangle pattern of stars (*) with n rows. The first row should contain 1 star, the second row 2\n",
    "stars, the third row 3 stars, and so on until the nth row.\n",
    "Ensure the stars in each row are separated by spaces, and each row starts on a new line."
   ]
  },
  {
   "cell_type": "code",
   "execution_count": 1,
   "id": "1f931161-5330-4b7f-a440-0e87c704f882",
   "metadata": {},
   "outputs": [
    {
     "name": "stdin",
     "output_type": "stream",
     "text": [
      "Enter the number of rows for the triangle:  1\n"
     ]
    },
    {
     "name": "stdout",
     "output_type": "stream",
     "text": [
      "*\n"
     ]
    }
   ],
   "source": [
    "n = int(input(\"Enter the number of rows for the triangle: \"))\n",
    "\n",
    "for i in range(1, n + 1):\n",
    "    print('*' * i)"
   ]
  },
  {
   "cell_type": "code",
   "execution_count": null,
   "id": "0bd8c1a2-af6e-40d3-884b-1e6912ceac26",
   "metadata": {},
   "outputs": [],
   "source": []
  }
 ],
 "metadata": {
  "kernelspec": {
   "display_name": "Python 3 (ipykernel)",
   "language": "python",
   "name": "python3"
  },
  "language_info": {
   "codemirror_mode": {
    "name": "ipython",
    "version": 3
   },
   "file_extension": ".py",
   "mimetype": "text/x-python",
   "name": "python",
   "nbconvert_exporter": "python",
   "pygments_lexer": "ipython3",
   "version": "3.12.7"
  }
 },
 "nbformat": 4,
 "nbformat_minor": 5
}
